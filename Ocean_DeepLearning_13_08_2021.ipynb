{
  "nbformat": 4,
  "nbformat_minor": 0,
  "metadata": {
    "colab": {
      "name": "Ocean_DeepLearning_13_08_2021.ipynb",
      "provenance": [],
      "collapsed_sections": [],
      "authorship_tag": "ABX9TyNBMLdJ1T+xpDrwXeS/SvPp",
      "include_colab_link": true
    },
    "kernelspec": {
      "name": "python3",
      "display_name": "Python 3"
    },
    "language_info": {
      "name": "python"
    }
  },
  "cells": [
    {
      "cell_type": "markdown",
      "metadata": {
        "id": "view-in-github",
        "colab_type": "text"
      },
      "source": [
        "<a href=\"https://colab.research.google.com/github/AdrianaPugarito/DeeplearningCurso/blob/main/Ocean_DeepLearning_13_08_2021.ipynb\" target=\"_parent\"><img src=\"https://colab.research.google.com/assets/colab-badge.svg\" alt=\"Open In Colab\"/></a>"
      ]
    },
    {
      "cell_type": "code",
      "metadata": {
        "colab": {
          "base_uri": "https://localhost:8080/",
          "height": 222
        },
        "id": "yd5WNDvgcivb",
        "outputId": "a0929943-c6e1-4122-adf0-7ed37bf91092"
      },
      "source": [
        "# Tensorflow\n",
        "# Keras\n",
        "# Redes Neurais\n",
        "\n",
        "# Glossário de Python\n",
        "\n",
        "# Exibir informações\n",
        "print(\"Hello, world!\")\n",
        "\n",
        "# Declarar uma variável\n",
        "numero = 20\n",
        "print(numero, type(numero))\n",
        "\n",
        "# Trabalhar com listas e exibir tipo das informações\n",
        "lista = [10, 20, 30]\n",
        "print(lista, type(lista))\n",
        "\n",
        "# Pegar elementos da lista\n",
        "elemento_da_lista = lista[0]\n",
        "print(elemento_da_lista, type(elemento_da_lista))\n",
        "\n",
        "# Mudar elementos da lista\n",
        "lista[1] = 99\n",
        "print(lista, type(lista), type(lista[1]))\n",
        "\n",
        "# Quantidade de elementos da lista\n",
        "quantidade_elementos = len(lista)\n",
        "\n",
        "# Tupla\n",
        "tupla = (51, 62, 79)\n",
        "print(tupla, type(tupla))\n",
        "\n",
        "tupla2 = 99, 11, 13\n",
        "print(tupla2, type(tupla2))\n",
        "\n",
        "tupla3 = 10, 5\n",
        "print(tupla3, type(tupla3))\n",
        "\n",
        "# Acessando elementos da tupla\n",
        "elemento_da_tupla = tupla[0]\n",
        "print(elemento_da_tupla, type(elemento_da_tupla))\n",
        "\n",
        "# Tupla vs Lista?\n",
        "# Tuplas não podem ser modificadas\n",
        "# TypeError: 'tuple' object does not support item assignment\n",
        "# tupla[0] = 30\n",
        "\n",
        "# Atalho para comentar: Ctrl + /\n",
        "\n",
        "tupla4 = 9, 6, 3, 2\n",
        "print(tupla4, type(tupla4))\n",
        "\n",
        "\"\"\"\n",
        "tupla4_em_lista = list(tupla4)\n",
        "tupla4_em_lista[0] = 99\n",
        "tupla4_lista_em_tupla_novamente = tuple(tupla4_em_lista)\n",
        "print(tupla4_lista_em_tupla_novamente, type(tupla4_lista_em_tupla_novamente))\n",
        "\n",
        "# Comentários de uma linha\n",
        "\"\"\"\n"
      ],
      "execution_count": null,
      "outputs": [
        {
          "output_type": "stream",
          "text": [
            "Hello, world!\n",
            "20 <class 'int'>\n",
            "[10, 20, 30] <class 'list'>\n",
            "10 <class 'int'>\n",
            "[10, 99, 30] <class 'list'> <class 'int'>\n",
            "(51, 62, 79) <class 'tuple'>\n",
            "(99, 11, 13) <class 'tuple'>\n",
            "(10, 5) <class 'tuple'>\n",
            "51 <class 'int'>\n",
            "(9, 6, 3, 2) <class 'tuple'>\n"
          ],
          "name": "stdout"
        },
        {
          "output_type": "execute_result",
          "data": {
            "application/vnd.google.colaboratory.intrinsic+json": {
              "type": "string"
            },
            "text/plain": [
              "'\\ntupla4_em_lista = list(tupla4)\\ntupla4_em_lista[0] = 99\\ntupla4_lista_em_tupla_novamente = tuple(tupla4_em_lista)\\nprint(tupla4_lista_em_tupla_novamente, type(tupla4_lista_em_tupla_novamente))\\n\\n# Comentários de uma linha\\n'"
            ]
          },
          "metadata": {
            "tags": []
          },
          "execution_count": 4
        }
      ]
    },
    {
      "cell_type": "code",
      "metadata": {
        "id": "V5lPfyItjXEC"
      },
      "source": [
        "nome = \"Adriana Pugarito\"\n",
        "\n",
        "contador = 0"
      ],
      "execution_count": null,
      "outputs": []
    },
    {
      "cell_type": "code",
      "metadata": {
        "colab": {
          "base_uri": "https://localhost:8080/"
        },
        "id": "IG2cx3lOjB5P",
        "outputId": "21a69321-3d4c-4d23-eb81-d6f29d639660"
      },
      "source": [
        "# Nova célula\n",
        "\n",
        "print(nome)\n",
        "\n",
        "contador = + 1\n",
        "print(f\"Esse nome foi exibido{contador} vez(es)!\")"
      ],
      "execution_count": null,
      "outputs": [
        {
          "output_type": "stream",
          "text": [
            "Adriana Pugarito\n",
            "Esse nome foi exibido1 vez(es)!\n"
          ],
          "name": "stdout"
        }
      ]
    },
    {
      "cell_type": "code",
      "metadata": {
        "id": "0p3Hx1lwkZOp"
      },
      "source": [
        "# Importar Tensorflow, Keras e todas as ferramentas/bibliotecas que precisamos!\n",
        "\n",
        "from tensorflow import keras # Importa a biblioteca Keras\n",
        "\n",
        "from keras.datasets import mnist # Base de Dados MNIST - 60k imagens treino, 10k imagens teste\n",
        "\n",
        "from tensorflow.python.keras import Sequential # Arquitetura da nossa rede neural\n",
        "from tensorflow.python.keras.layers import Dense, Dropout # Neurônio (base da rede) e Regularizador (evita overfitting)\n",
        "from tensorflow.compat.v1.keras.optimizers import RMSprop # Otimizador (back propagation)"
      ],
      "execution_count": null,
      "outputs": []
    },
    {
      "cell_type": "code",
      "metadata": {
        "colab": {
          "base_uri": "https://localhost:8080/"
        },
        "id": "sqlY_EJJniRw",
        "outputId": "eda78e4e-be6f-49bf-8a70-7ba5d4cf6697"
      },
      "source": [
        "(x_treino, y_treino), (x_teste, y_teste) = mnist.load_data()\n",
        "\n",
        "# X_Treino -> 60k imagens, 28x28 pixels\n",
        "# Y_Treino -> 60k labels, contendo o número que está desenhado na imagem\n",
        "\n",
        "# X_Teste -> 10k imagens, 28x28 pixels\n",
        "# Y_Teste -> 10k labels, contendo o número que está desenhado na imagem"
      ],
      "execution_count": null,
      "outputs": [
        {
          "output_type": "stream",
          "text": [
            "Downloading data from https://storage.googleapis.com/tensorflow/tf-keras-datasets/mnist.npz\n",
            "11493376/11490434 [==============================] - 0s 0us/step\n",
            "11501568/11490434 [==============================] - 0s 0us/step\n"
          ],
          "name": "stdout"
        }
      ]
    },
    {
      "cell_type": "code",
      "metadata": {
        "colab": {
          "base_uri": "https://localhost:8080/"
        },
        "id": "Pl84R5Zjqffm",
        "outputId": "441fb79c-9cd0-45e5-d320-89b43e5316f5"
      },
      "source": [
        "# Após importar os dados, é importante dar uma analisada para ver o que temos no dataset\n",
        "# e como ele está estruturado\n",
        "\n",
        "print(\"Quantidade de imagens para treino:\", len(x_treino))\n",
        "\n",
        "print(\"Quantidade de imagens para teste:\", len(x_teste))\n",
        "\n",
        "print(\"Tipo de x_treino:\", type(x_treino))\n",
        "\n",
        "primeira_imagem = x_treino[0]\n",
        "\n",
        "representacao_primeira_imagem = y_treino[0]\n",
        "\n",
        "print(\"O que a imagem 0 de treino representa?\", representacao_primeira_imagem)\n",
        "\n",
        "print(\"Formato da primeira imagem:\", primeira_imagem.shape, type(primeira_imagem))\n",
        "\n",
        "print(primeira_imagem)"
      ],
      "execution_count": null,
      "outputs": [
        {
          "output_type": "stream",
          "text": [
            "Quantidade de imagens para treino: 60000\n",
            "Quantidade de imagens para teste: 10000\n",
            "Tipo de x_treino: <class 'numpy.ndarray'>\n",
            "O que a imagem 0 de treino representa? 5\n",
            "Formato da primeira imagem: (28, 28) <class 'numpy.ndarray'>\n",
            "[[  0   0   0   0   0   0   0   0   0   0   0   0   0   0   0   0   0   0\n",
            "    0   0   0   0   0   0   0   0   0   0]\n",
            " [  0   0   0   0   0   0   0   0   0   0   0   0   0   0   0   0   0   0\n",
            "    0   0   0   0   0   0   0   0   0   0]\n",
            " [  0   0   0   0   0   0   0   0   0   0   0   0   0   0   0   0   0   0\n",
            "    0   0   0   0   0   0   0   0   0   0]\n",
            " [  0   0   0   0   0   0   0   0   0   0   0   0   0   0   0   0   0   0\n",
            "    0   0   0   0   0   0   0   0   0   0]\n",
            " [  0   0   0   0   0   0   0   0   0   0   0   0   0   0   0   0   0   0\n",
            "    0   0   0   0   0   0   0   0   0   0]\n",
            " [  0   0   0   0   0   0   0   0   0   0   0   0   3  18  18  18 126 136\n",
            "  175  26 166 255 247 127   0   0   0   0]\n",
            " [  0   0   0   0   0   0   0   0  30  36  94 154 170 253 253 253 253 253\n",
            "  225 172 253 242 195  64   0   0   0   0]\n",
            " [  0   0   0   0   0   0   0  49 238 253 253 253 253 253 253 253 253 251\n",
            "   93  82  82  56  39   0   0   0   0   0]\n",
            " [  0   0   0   0   0   0   0  18 219 253 253 253 253 253 198 182 247 241\n",
            "    0   0   0   0   0   0   0   0   0   0]\n",
            " [  0   0   0   0   0   0   0   0  80 156 107 253 253 205  11   0  43 154\n",
            "    0   0   0   0   0   0   0   0   0   0]\n",
            " [  0   0   0   0   0   0   0   0   0  14   1 154 253  90   0   0   0   0\n",
            "    0   0   0   0   0   0   0   0   0   0]\n",
            " [  0   0   0   0   0   0   0   0   0   0   0 139 253 190   2   0   0   0\n",
            "    0   0   0   0   0   0   0   0   0   0]\n",
            " [  0   0   0   0   0   0   0   0   0   0   0  11 190 253  70   0   0   0\n",
            "    0   0   0   0   0   0   0   0   0   0]\n",
            " [  0   0   0   0   0   0   0   0   0   0   0   0  35 241 225 160 108   1\n",
            "    0   0   0   0   0   0   0   0   0   0]\n",
            " [  0   0   0   0   0   0   0   0   0   0   0   0   0  81 240 253 253 119\n",
            "   25   0   0   0   0   0   0   0   0   0]\n",
            " [  0   0   0   0   0   0   0   0   0   0   0   0   0   0  45 186 253 253\n",
            "  150  27   0   0   0   0   0   0   0   0]\n",
            " [  0   0   0   0   0   0   0   0   0   0   0   0   0   0   0  16  93 252\n",
            "  253 187   0   0   0   0   0   0   0   0]\n",
            " [  0   0   0   0   0   0   0   0   0   0   0   0   0   0   0   0   0 249\n",
            "  253 249  64   0   0   0   0   0   0   0]\n",
            " [  0   0   0   0   0   0   0   0   0   0   0   0   0   0  46 130 183 253\n",
            "  253 207   2   0   0   0   0   0   0   0]\n",
            " [  0   0   0   0   0   0   0   0   0   0   0   0  39 148 229 253 253 253\n",
            "  250 182   0   0   0   0   0   0   0   0]\n",
            " [  0   0   0   0   0   0   0   0   0   0  24 114 221 253 253 253 253 201\n",
            "   78   0   0   0   0   0   0   0   0   0]\n",
            " [  0   0   0   0   0   0   0   0  23  66 213 253 253 253 253 198  81   2\n",
            "    0   0   0   0   0   0   0   0   0   0]\n",
            " [  0   0   0   0   0   0  18 171 219 253 253 253 253 195  80   9   0   0\n",
            "    0   0   0   0   0   0   0   0   0   0]\n",
            " [  0   0   0   0  55 172 226 253 253 253 253 244 133  11   0   0   0   0\n",
            "    0   0   0   0   0   0   0   0   0   0]\n",
            " [  0   0   0   0 136 253 253 253 212 135 132  16   0   0   0   0   0   0\n",
            "    0   0   0   0   0   0   0   0   0   0]\n",
            " [  0   0   0   0   0   0   0   0   0   0   0   0   0   0   0   0   0   0\n",
            "    0   0   0   0   0   0   0   0   0   0]\n",
            " [  0   0   0   0   0   0   0   0   0   0   0   0   0   0   0   0   0   0\n",
            "    0   0   0   0   0   0   0   0   0   0]\n",
            " [  0   0   0   0   0   0   0   0   0   0   0   0   0   0   0   0   0   0\n",
            "    0   0   0   0   0   0   0   0   0   0]]\n"
          ],
          "name": "stdout"
        }
      ]
    },
    {
      "cell_type": "code",
      "metadata": {
        "colab": {
          "base_uri": "https://localhost:8080/",
          "height": 299
        },
        "id": "r5l9uhrTvNaU",
        "outputId": "08b6f07c-f0f1-42b6-87b0-f1c101b65432"
      },
      "source": [
        "import matplotlib.pyplot as plt\n",
        "\n",
        "indice = 0\n",
        "\n",
        "print(\"A imagem representa:\", y_treino[indice])\n",
        "\n",
        "plt.imshow(x_treino[indice], cmap=plt.cm.binary)"
      ],
      "execution_count": null,
      "outputs": [
        {
          "output_type": "stream",
          "text": [
            "A imagem representa: 5\n"
          ],
          "name": "stdout"
        },
        {
          "output_type": "execute_result",
          "data": {
            "text/plain": [
              "<matplotlib.image.AxesImage at 0x7f7e340ceb90>"
            ]
          },
          "metadata": {
            "tags": []
          },
          "execution_count": 10
        },
        {
          "output_type": "display_data",
          "data": {
            "image/png": "[encoded data removed]",
            "text/plain": [
              "<Figure size 432x288 with 1 Axes>"
            ]
          },
          "metadata": {
            "tags": [],
            "needs_background": "light"
          }
        }
      ]
    },
    {
      "cell_type": "code",
      "metadata": {
        "id": "EEXfDUSx6WTV"
      },
      "source": [
        "# Fluxo para construção da rede neural\n",
        "\n",
        "# - Organizar a camada de entrada (input)\n",
        "# - Organizar a camada de saída (output)\n",
        "# - Estruturar a nossa rede neural\n",
        "# - Treinar o modelo\n",
        "# - Fazer as previsões"
      ],
      "execution_count": null,
      "outputs": []
    },
    {
      "cell_type": "code",
      "metadata": {
        "id": "g6Ygo24O6Zco"
      },
      "source": [
        "# Achatando a matriz de pixels e transformando em uma única lista\n",
        "\n",
        "quantidade_treino = len(x_treino) # 60000\n",
        "quantidade_teste = len(x_teste) # 10000\n",
        "\n",
        "resolucao_imagem = x_treino[0].shape # (28, 28)\n",
        "resolucao_total = resolucao_imagem[0] * resolucao_imagem[1] # 28 * 28 = 784\n",
        "\n",
        "x_treino = x_treino.reshape(quantidade_treino, resolucao_total)\n",
        "\n",
        "x_teste = x_teste.reshape(quantidade_teste, resolucao_total)"
      ],
      "execution_count": null,
      "outputs": []
    },
    {
      "cell_type": "code",
      "metadata": {
        "colab": {
          "base_uri": "https://localhost:8080/"
        },
        "id": "Ccjp2i946gXd",
        "outputId": "29341607-6df9-49df-e335-92ea845ce3bb"
      },
      "source": [
        "print(\"Quantidade de itens em x_treino[0]:\", len(x_treino[0]))\n",
        "\n",
        "# Como será que ficou x_treino[0]?\n",
        "print(x_treino[0])"
      ],
      "execution_count": null,
      "outputs": [
        {
          "output_type": "stream",
          "text": [
            "Quantidade de itens em x_treino[0]: 784\n",
            "[  0   0   0   0   0   0   0   0   0   0   0   0   0   0   0   0   0   0\n",
            "   0   0   0   0   0   0   0   0   0   0   0   0   0   0   0   0   0   0\n",
            "   0   0   0   0   0   0   0   0   0   0   0   0   0   0   0   0   0   0\n",
            "   0   0   0   0   0   0   0   0   0   0   0   0   0   0   0   0   0   0\n",
            "   0   0   0   0   0   0   0   0   0   0   0   0   0   0   0   0   0   0\n",
            "   0   0   0   0   0   0   0   0   0   0   0   0   0   0   0   0   0   0\n",
            "   0   0   0   0   0   0   0   0   0   0   0   0   0   0   0   0   0   0\n",
            "   0   0   0   0   0   0   0   0   0   0   0   0   0   0   0   0   0   0\n",
            "   0   0   0   0   0   0   0   0   3  18  18  18 126 136 175  26 166 255\n",
            " 247 127   0   0   0   0   0   0   0   0   0   0   0   0  30  36  94 154\n",
            " 170 253 253 253 253 253 225 172 253 242 195  64   0   0   0   0   0   0\n",
            "   0   0   0   0   0  49 238 253 253 253 253 253 253 253 253 251  93  82\n",
            "  82  56  39   0   0   0   0   0   0   0   0   0   0   0   0  18 219 253\n",
            " 253 253 253 253 198 182 247 241   0   0   0   0   0   0   0   0   0   0\n",
            "   0   0   0   0   0   0   0   0  80 156 107 253 253 205  11   0  43 154\n",
            "   0   0   0   0   0   0   0   0   0   0   0   0   0   0   0   0   0   0\n",
            "   0  14   1 154 253  90   0   0   0   0   0   0   0   0   0   0   0   0\n",
            "   0   0   0   0   0   0   0   0   0   0   0   0   0 139 253 190   2   0\n",
            "   0   0   0   0   0   0   0   0   0   0   0   0   0   0   0   0   0   0\n",
            "   0   0   0   0   0  11 190 253  70   0   0   0   0   0   0   0   0   0\n",
            "   0   0   0   0   0   0   0   0   0   0   0   0   0   0   0   0  35 241\n",
            " 225 160 108   1   0   0   0   0   0   0   0   0   0   0   0   0   0   0\n",
            "   0   0   0   0   0   0   0   0   0  81 240 253 253 119  25   0   0   0\n",
            "   0   0   0   0   0   0   0   0   0   0   0   0   0   0   0   0   0   0\n",
            "   0   0  45 186 253 253 150  27   0   0   0   0   0   0   0   0   0   0\n",
            "   0   0   0   0   0   0   0   0   0   0   0   0   0  16  93 252 253 187\n",
            "   0   0   0   0   0   0   0   0   0   0   0   0   0   0   0   0   0   0\n",
            "   0   0   0   0   0   0   0 249 253 249  64   0   0   0   0   0   0   0\n",
            "   0   0   0   0   0   0   0   0   0   0   0   0   0   0  46 130 183 253\n",
            " 253 207   2   0   0   0   0   0   0   0   0   0   0   0   0   0   0   0\n",
            "   0   0   0   0  39 148 229 253 253 253 250 182   0   0   0   0   0   0\n",
            "   0   0   0   0   0   0   0   0   0   0   0   0  24 114 221 253 253 253\n",
            " 253 201  78   0   0   0   0   0   0   0   0   0   0   0   0   0   0   0\n",
            "   0   0  23  66 213 253 253 253 253 198  81   2   0   0   0   0   0   0\n",
            "   0   0   0   0   0   0   0   0   0   0  18 171 219 253 253 253 253 195\n",
            "  80   9   0   0   0   0   0   0   0   0   0   0   0   0   0   0   0   0\n",
            "  55 172 226 253 253 253 253 244 133  11   0   0   0   0   0   0   0   0\n",
            "   0   0   0   0   0   0   0   0   0   0 136 253 253 253 212 135 132  16\n",
            "   0   0   0   0   0   0   0   0   0   0   0   0   0   0   0   0   0   0\n",
            "   0   0   0   0   0   0   0   0   0   0   0   0   0   0   0   0   0   0\n",
            "   0   0   0   0   0   0   0   0   0   0   0   0   0   0   0   0   0   0\n",
            "   0   0   0   0   0   0   0   0   0   0   0   0   0   0   0   0   0   0\n",
            "   0   0   0   0   0   0   0   0   0   0   0   0   0   0   0   0   0   0\n",
            "   0   0   0   0   0   0   0   0   0   0]\n"
          ],
          "name": "stdout"
        }
      ]
    },
    {
      "cell_type": "code",
      "metadata": {
        "id": "TM6YxV0s6oYz"
      },
      "source": [
        "# Normalização de dados\n",
        "\n",
        "# 255 vire 1\n",
        "# 127 vire 0.5\n",
        "# 0 vire 0\n",
        "# E assim por diante\n",
        "\n",
        "# Posso pegar o meu valor que eu quero transformar e dividir pelo valor máximo do meu intervalo\n",
        "# Exemplo, se eu dividir 255 por 255, tenho 1\n",
        "# Exemplo, se eu dividir 127 por 255, tenho ~0.5\n",
        "# Exemplo, se eu dividir 0 por 255, tenho 0\n"
      ],
      "execution_count": null,
      "outputs": []
    },
    {
      "cell_type": "code",
      "metadata": {
        "id": "J2FvHCXz6y29"
      },
      "source": [
        "# Normalização de dados\n",
        "\n",
        "# Conversão para tipos\n",
        "\n",
        "x_treino = x_treino.astype('float32')\n",
        "x_teste = x_teste.astype('float32')\n",
        "\n",
        "x_treino /= 255 # Divide todos os 60000 valores de x_treino por 255 e armazena esse resultado em x_treino\n",
        "x_teste /= 255 # Divide todos os 10000 valores de x_teste por 255 e armazena esse resultado em x_teste"
      ],
      "execution_count": null,
      "outputs": []
    },
    {
      "cell_type": "code",
      "metadata": {
        "colab": {
          "base_uri": "https://localhost:8080/"
        },
        "id": "aRvrknK-67LE",
        "outputId": "da45d1f2-a97e-430b-c94b-9bdabd233c86"
      },
      "source": [
        "# Como está o pixel 350 da primeira imagem de x_treino?\n",
        "print(x_treino[0][350], type(x_treino[0][350]))\n",
        "\n",
        "# Como está x_treino[0] agora?\n",
        "print(x_treino[0])"
      ],
      "execution_count": null,
      "outputs": [
        {
          "output_type": "stream",
          "text": [
            "0.27450982 <class 'numpy.float32'>\n",
            "[0.         0.         0.         0.         0.         0.\n",
            " 0.         0.         0.         0.         0.         0.\n",
            " 0.         0.         0.         0.         0.         0.\n",
            " 0.         0.         0.         0.         0.         0.\n",
            " 0.         0.         0.         0.         0.         0.\n",
            " 0.         0.         0.         0.         0.         0.\n",
            " 0.         0.         0.         0.         0.         0.\n",
            " 0.         0.         0.         0.         0.         0.\n",
            " 0.         0.         0.         0.         0.         0.\n",
            " 0.         0.         0.         0.         0.         0.\n",
            " 0.         0.         0.         0.         0.         0.\n",
            " 0.         0.         0.         0.         0.         0.\n",
            " 0.         0.         0.         0.         0.         0.\n",
            " 0.         0.         0.         0.         0.         0.\n",
            " 0.         0.         0.         0.         0.         0.\n",
            " 0.         0.         0.         0.         0.         0.\n",
            " 0.         0.         0.         0.         0.         0.\n",
            " 0.         0.         0.         0.         0.         0.\n",
            " 0.         0.         0.         0.         0.         0.\n",
            " 0.         0.         0.         0.         0.         0.\n",
            " 0.         0.         0.         0.         0.         0.\n",
            " 0.         0.         0.         0.         0.         0.\n",
            " 0.         0.         0.         0.         0.         0.\n",
            " 0.         0.         0.         0.         0.         0.\n",
            " 0.         0.         0.         0.         0.         0.\n",
            " 0.         0.         0.01176471 0.07058824 0.07058824 0.07058824\n",
            " 0.49411765 0.53333336 0.6862745  0.10196079 0.6509804  1.\n",
            " 0.96862745 0.49803922 0.         0.         0.         0.\n",
            " 0.         0.         0.         0.         0.         0.\n",
            " 0.         0.         0.11764706 0.14117648 0.36862746 0.6039216\n",
            " 0.6666667  0.99215686 0.99215686 0.99215686 0.99215686 0.99215686\n",
            " 0.88235295 0.6745098  0.99215686 0.9490196  0.7647059  0.2509804\n",
            " 0.         0.         0.         0.         0.         0.\n",
            " 0.         0.         0.         0.         0.         0.19215687\n",
            " 0.93333334 0.99215686 0.99215686 0.99215686 0.99215686 0.99215686\n",
            " 0.99215686 0.99215686 0.99215686 0.9843137  0.3647059  0.32156864\n",
            " 0.32156864 0.21960784 0.15294118 0.         0.         0.\n",
            " 0.         0.         0.         0.         0.         0.\n",
            " 0.         0.         0.         0.07058824 0.85882354 0.99215686\n",
            " 0.99215686 0.99215686 0.99215686 0.99215686 0.7764706  0.7137255\n",
            " 0.96862745 0.94509804 0.         0.         0.         0.\n",
            " 0.         0.         0.         0.         0.         0.\n",
            " 0.         0.         0.         0.         0.         0.\n",
            " 0.         0.         0.3137255  0.6117647  0.41960785 0.99215686\n",
            " 0.99215686 0.8039216  0.04313726 0.         0.16862746 0.6039216\n",
            " 0.         0.         0.         0.         0.         0.\n",
            " 0.         0.         0.         0.         0.         0.\n",
            " 0.         0.         0.         0.         0.         0.\n",
            " 0.         0.05490196 0.00392157 0.6039216  0.99215686 0.3529412\n",
            " 0.         0.         0.         0.         0.         0.\n",
            " 0.         0.         0.         0.         0.         0.\n",
            " 0.         0.         0.         0.         0.         0.\n",
            " 0.         0.         0.         0.         0.         0.\n",
            " 0.         0.54509807 0.99215686 0.74509805 0.00784314 0.\n",
            " 0.         0.         0.         0.         0.         0.\n",
            " 0.         0.         0.         0.         0.         0.\n",
            " 0.         0.         0.         0.         0.         0.\n",
            " 0.         0.         0.         0.         0.         0.04313726\n",
            " 0.74509805 0.99215686 0.27450982 0.         0.         0.\n",
            " 0.         0.         0.         0.         0.         0.\n",
            " 0.         0.         0.         0.         0.         0.\n",
            " 0.         0.         0.         0.         0.         0.\n",
            " 0.         0.         0.         0.         0.13725491 0.94509804\n",
            " 0.88235295 0.627451   0.42352942 0.00392157 0.         0.\n",
            " 0.         0.         0.         0.         0.         0.\n",
            " 0.         0.         0.         0.         0.         0.\n",
            " 0.         0.         0.         0.         0.         0.\n",
            " 0.         0.         0.         0.31764707 0.9411765  0.99215686\n",
            " 0.99215686 0.46666667 0.09803922 0.         0.         0.\n",
            " 0.         0.         0.         0.         0.         0.\n",
            " 0.         0.         0.         0.         0.         0.\n",
            " 0.         0.         0.         0.         0.         0.\n",
            " 0.         0.         0.1764706  0.7294118  0.99215686 0.99215686\n",
            " 0.5882353  0.10588235 0.         0.         0.         0.\n",
            " 0.         0.         0.         0.         0.         0.\n",
            " 0.         0.         0.         0.         0.         0.\n",
            " 0.         0.         0.         0.         0.         0.\n",
            " 0.         0.0627451  0.3647059  0.9882353  0.99215686 0.73333335\n",
            " 0.         0.         0.         0.         0.         0.\n",
            " 0.         0.         0.         0.         0.         0.\n",
            " 0.         0.         0.         0.         0.         0.\n",
            " 0.         0.         0.         0.         0.         0.\n",
            " 0.         0.9764706  0.99215686 0.9764706  0.2509804  0.\n",
            " 0.         0.         0.         0.         0.         0.\n",
            " 0.         0.         0.         0.         0.         0.\n",
            " 0.         0.         0.         0.         0.         0.\n",
            " 0.         0.         0.18039216 0.50980395 0.7176471  0.99215686\n",
            " 0.99215686 0.8117647  0.00784314 0.         0.         0.\n",
            " 0.         0.         0.         0.         0.         0.\n",
            " 0.         0.         0.         0.         0.         0.\n",
            " 0.         0.         0.         0.         0.15294118 0.5803922\n",
            " 0.8980392  0.99215686 0.99215686 0.99215686 0.98039216 0.7137255\n",
            " 0.         0.         0.         0.         0.         0.\n",
            " 0.         0.         0.         0.         0.         0.\n",
            " 0.         0.         0.         0.         0.         0.\n",
            " 0.09411765 0.44705883 0.8666667  0.99215686 0.99215686 0.99215686\n",
            " 0.99215686 0.7882353  0.30588236 0.         0.         0.\n",
            " 0.         0.         0.         0.         0.         0.\n",
            " 0.         0.         0.         0.         0.         0.\n",
            " 0.         0.         0.09019608 0.25882354 0.8352941  0.99215686\n",
            " 0.99215686 0.99215686 0.99215686 0.7764706  0.31764707 0.00784314\n",
            " 0.         0.         0.         0.         0.         0.\n",
            " 0.         0.         0.         0.         0.         0.\n",
            " 0.         0.         0.         0.         0.07058824 0.67058825\n",
            " 0.85882354 0.99215686 0.99215686 0.99215686 0.99215686 0.7647059\n",
            " 0.3137255  0.03529412 0.         0.         0.         0.\n",
            " 0.         0.         0.         0.         0.         0.\n",
            " 0.         0.         0.         0.         0.         0.\n",
            " 0.21568628 0.6745098  0.8862745  0.99215686 0.99215686 0.99215686\n",
            " 0.99215686 0.95686275 0.52156866 0.04313726 0.         0.\n",
            " 0.         0.         0.         0.         0.         0.\n",
            " 0.         0.         0.         0.         0.         0.\n",
            " 0.         0.         0.         0.         0.53333336 0.99215686\n",
            " 0.99215686 0.99215686 0.83137256 0.5294118  0.5176471  0.0627451\n",
            " 0.         0.         0.         0.         0.         0.\n",
            " 0.         0.         0.         0.         0.         0.\n",
            " 0.         0.         0.         0.         0.         0.\n",
            " 0.         0.         0.         0.         0.         0.\n",
            " 0.         0.         0.         0.         0.         0.\n",
            " 0.         0.         0.         0.         0.         0.\n",
            " 0.         0.         0.         0.         0.         0.\n",
            " 0.         0.         0.         0.         0.         0.\n",
            " 0.         0.         0.         0.         0.         0.\n",
            " 0.         0.         0.         0.         0.         0.\n",
            " 0.         0.         0.         0.         0.         0.\n",
            " 0.         0.         0.         0.         0.         0.\n",
            " 0.         0.         0.         0.         0.         0.\n",
            " 0.         0.         0.         0.         0.         0.\n",
            " 0.         0.         0.         0.         0.         0.\n",
            " 0.         0.         0.         0.         0.         0.\n",
            " 0.         0.         0.         0.        ]\n"
          ],
          "name": "stdout"
        }
      ]
    },
    {
      "cell_type": "code",
      "metadata": {
        "id": "Dlm_c1jS7IW5"
      },
      "source": [
        "# Normalização de dados\n",
        "\n",
        "# 255 vire 1\n",
        "# 127 vire 0.5\n",
        "# 0 vire 0\n",
        "# E assim por diante\n",
        "\n",
        "# Posso pegar o meu valor que eu quero transformar e dividir pelo valor máximo do meu intervalo\n",
        "# Exemplo, se eu dividir 255 por 255, tenho 1\n",
        "# Exemplo, se eu dividir 127 por 255, tenho ~0.5\n",
        "# Exemplo, se eu dividir 0 por 255, tenho 0\n"
      ],
      "execution_count": null,
      "outputs": []
    },
    {
      "cell_type": "code",
      "metadata": {
        "id": "MJ_3Y-kK9Yun"
      },
      "source": [
        "# Normalização de dados\n",
        "\n",
        "# Conversão para tipos\n",
        "\n",
        "x_treino = x_treino.astype('float32')\n",
        "x_teste = x_teste.astype('float32')\n",
        "\n",
        "x_treino /= 255 # Divide todos os 60000 valores de x_treino por 255 e armazena esse resultado em x_treino\n",
        "x_teste /= 255 # Divide todos os 10000 valores de x_teste por 255 e armazena esse resultado em x_teste"
      ],
      "execution_count": null,
      "outputs": []
    },
    {
      "cell_type": "code",
      "metadata": {
        "colab": {
          "base_uri": "https://localhost:8080/"
        },
        "id": "cTEwZ7P4-AYC",
        "outputId": "277eeefd-300f-4c75-8daf-4660248aaa0c"
      },
      "source": [
        "# Como está o pixel 350 da primeira imagem de x_treino?\n",
        "print(x_treino[0][350], type(x_treino[0][350]))\n",
        "\n",
        "# Como está x_treino[0] agora?\n",
        "print(x_treino[0])"
      ],
      "execution_count": null,
      "outputs": [
        {
          "output_type": "stream",
          "text": [
            "0.0010765091 <class 'numpy.float32'>\n",
            "[0.0000000e+00 0.0000000e+00 0.0000000e+00 0.0000000e+00 0.0000000e+00\n",
            " 0.0000000e+00 0.0000000e+00 0.0000000e+00 0.0000000e+00 0.0000000e+00\n",
            " 0.0000000e+00 0.0000000e+00 0.0000000e+00 0.0000000e+00 0.0000000e+00\n",
            " 0.0000000e+00 0.0000000e+00 0.0000000e+00 0.0000000e+00 0.0000000e+00\n",
            " 0.0000000e+00 0.0000000e+00 0.0000000e+00 0.0000000e+00 0.0000000e+00\n",
            " 0.0000000e+00 0.0000000e+00 0.0000000e+00 0.0000000e+00 0.0000000e+00\n",
            " 0.0000000e+00 0.0000000e+00 0.0000000e+00 0.0000000e+00 0.0000000e+00\n",
            " 0.0000000e+00 0.0000000e+00 0.0000000e+00 0.0000000e+00 0.0000000e+00\n",
            " 0.0000000e+00 0.0000000e+00 0.0000000e+00 0.0000000e+00 0.0000000e+00\n",
            " 0.0000000e+00 0.0000000e+00 0.0000000e+00 0.0000000e+00 0.0000000e+00\n",
            " 0.0000000e+00 0.0000000e+00 0.0000000e+00 0.0000000e+00 0.0000000e+00\n",
            " 0.0000000e+00 0.0000000e+00 0.0000000e+00 0.0000000e+00 0.0000000e+00\n",
            " 0.0000000e+00 0.0000000e+00 0.0000000e+00 0.0000000e+00 0.0000000e+00\n",
            " 0.0000000e+00 0.0000000e+00 0.0000000e+00 0.0000000e+00 0.0000000e+00\n",
            " 0.0000000e+00 0.0000000e+00 0.0000000e+00 0.0000000e+00 0.0000000e+00\n",
            " 0.0000000e+00 0.0000000e+00 0.0000000e+00 0.0000000e+00 0.0000000e+00\n",
            " 0.0000000e+00 0.0000000e+00 0.0000000e+00 0.0000000e+00 0.0000000e+00\n",
            " 0.0000000e+00 0.0000000e+00 0.0000000e+00 0.0000000e+00 0.0000000e+00\n",
            " 0.0000000e+00 0.0000000e+00 0.0000000e+00 0.0000000e+00 0.0000000e+00\n",
            " 0.0000000e+00 0.0000000e+00 0.0000000e+00 0.0000000e+00 0.0000000e+00\n",
            " 0.0000000e+00 0.0000000e+00 0.0000000e+00 0.0000000e+00 0.0000000e+00\n",
            " 0.0000000e+00 0.0000000e+00 0.0000000e+00 0.0000000e+00 0.0000000e+00\n",
            " 0.0000000e+00 0.0000000e+00 0.0000000e+00 0.0000000e+00 0.0000000e+00\n",
            " 0.0000000e+00 0.0000000e+00 0.0000000e+00 0.0000000e+00 0.0000000e+00\n",
            " 0.0000000e+00 0.0000000e+00 0.0000000e+00 0.0000000e+00 0.0000000e+00\n",
            " 0.0000000e+00 0.0000000e+00 0.0000000e+00 0.0000000e+00 0.0000000e+00\n",
            " 0.0000000e+00 0.0000000e+00 0.0000000e+00 0.0000000e+00 0.0000000e+00\n",
            " 0.0000000e+00 0.0000000e+00 0.0000000e+00 0.0000000e+00 0.0000000e+00\n",
            " 0.0000000e+00 0.0000000e+00 0.0000000e+00 0.0000000e+00 0.0000000e+00\n",
            " 0.0000000e+00 0.0000000e+00 0.0000000e+00 0.0000000e+00 0.0000000e+00\n",
            " 0.0000000e+00 0.0000000e+00 4.6136101e-05 2.7681663e-04 2.7681663e-04\n",
            " 2.7681663e-04 1.9377163e-03 2.0915035e-03 2.6912726e-03 3.9984621e-04\n",
            " 2.5528644e-03 3.9215689e-03 3.7985391e-03 1.9530950e-03 0.0000000e+00\n",
            " 0.0000000e+00 0.0000000e+00 0.0000000e+00 0.0000000e+00 0.0000000e+00\n",
            " 0.0000000e+00 0.0000000e+00 0.0000000e+00 0.0000000e+00 0.0000000e+00\n",
            " 0.0000000e+00 4.6136102e-04 5.5363326e-04 1.4455979e-03 2.3683200e-03\n",
            " 2.6143792e-03 3.8908112e-03 3.8908112e-03 3.8908112e-03 3.8908112e-03\n",
            " 3.8908112e-03 3.4602077e-03 2.6451366e-03 3.8908112e-03 3.7216456e-03\n",
            " 2.9988466e-03 9.8423695e-04 0.0000000e+00 0.0000000e+00 0.0000000e+00\n",
            " 0.0000000e+00 0.0000000e+00 0.0000000e+00 0.0000000e+00 0.0000000e+00\n",
            " 0.0000000e+00 0.0000000e+00 0.0000000e+00 7.5355632e-04 3.6601308e-03\n",
            " 3.8908112e-03 3.8908112e-03 3.8908112e-03 3.8908112e-03 3.8908112e-03\n",
            " 3.8908112e-03 3.8908112e-03 3.8908112e-03 3.8600538e-03 1.4302192e-03\n",
            " 1.2610535e-03 1.2610535e-03 8.6120726e-04 5.9976935e-04 0.0000000e+00\n",
            " 0.0000000e+00 0.0000000e+00 0.0000000e+00 0.0000000e+00 0.0000000e+00\n",
            " 0.0000000e+00 0.0000000e+00 0.0000000e+00 0.0000000e+00 0.0000000e+00\n",
            " 0.0000000e+00 2.7681663e-04 3.3679355e-03 3.8908112e-03 3.8908112e-03\n",
            " 3.8908112e-03 3.8908112e-03 3.8908112e-03 3.0449827e-03 2.7989235e-03\n",
            " 3.7985391e-03 3.7062669e-03 0.0000000e+00 0.0000000e+00 0.0000000e+00\n",
            " 0.0000000e+00 0.0000000e+00 0.0000000e+00 0.0000000e+00 0.0000000e+00\n",
            " 0.0000000e+00 0.0000000e+00 0.0000000e+00 0.0000000e+00 0.0000000e+00\n",
            " 0.0000000e+00 0.0000000e+00 0.0000000e+00 0.0000000e+00 0.0000000e+00\n",
            " 1.2302961e-03 2.3990774e-03 1.6455210e-03 3.8908112e-03 3.8908112e-03\n",
            " 3.1526336e-03 1.6916571e-04 0.0000000e+00 6.6128414e-04 2.3683200e-03\n",
            " 0.0000000e+00 0.0000000e+00 0.0000000e+00 0.0000000e+00 0.0000000e+00\n",
            " 0.0000000e+00 0.0000000e+00 0.0000000e+00 0.0000000e+00 0.0000000e+00\n",
            " 0.0000000e+00 0.0000000e+00 0.0000000e+00 0.0000000e+00 0.0000000e+00\n",
            " 0.0000000e+00 0.0000000e+00 0.0000000e+00 0.0000000e+00 2.1530181e-04\n",
            " 1.5378702e-05 2.3683200e-03 3.8908112e-03 1.3840831e-03 0.0000000e+00\n",
            " 0.0000000e+00 0.0000000e+00 0.0000000e+00 0.0000000e+00 0.0000000e+00\n",
            " 0.0000000e+00 0.0000000e+00 0.0000000e+00 0.0000000e+00 0.0000000e+00\n",
            " 0.0000000e+00 0.0000000e+00 0.0000000e+00 0.0000000e+00 0.0000000e+00\n",
            " 0.0000000e+00 0.0000000e+00 0.0000000e+00 0.0000000e+00 0.0000000e+00\n",
            " 0.0000000e+00 0.0000000e+00 0.0000000e+00 0.0000000e+00 2.1376396e-03\n",
            " 3.8908112e-03 2.9219531e-03 3.0757405e-05 0.0000000e+00 0.0000000e+00\n",
            " 0.0000000e+00 0.0000000e+00 0.0000000e+00 0.0000000e+00 0.0000000e+00\n",
            " 0.0000000e+00 0.0000000e+00 0.0000000e+00 0.0000000e+00 0.0000000e+00\n",
            " 0.0000000e+00 0.0000000e+00 0.0000000e+00 0.0000000e+00 0.0000000e+00\n",
            " 0.0000000e+00 0.0000000e+00 0.0000000e+00 0.0000000e+00 0.0000000e+00\n",
            " 0.0000000e+00 0.0000000e+00 1.6916571e-04 2.9219531e-03 3.8908112e-03\n",
            " 1.0765091e-03 0.0000000e+00 0.0000000e+00 0.0000000e+00 0.0000000e+00\n",
            " 0.0000000e+00 0.0000000e+00 0.0000000e+00 0.0000000e+00 0.0000000e+00\n",
            " 0.0000000e+00 0.0000000e+00 0.0000000e+00 0.0000000e+00 0.0000000e+00\n",
            " 0.0000000e+00 0.0000000e+00 0.0000000e+00 0.0000000e+00 0.0000000e+00\n",
            " 0.0000000e+00 0.0000000e+00 0.0000000e+00 0.0000000e+00 0.0000000e+00\n",
            " 0.0000000e+00 5.3825456e-04 3.7062669e-03 3.4602077e-03 2.4605922e-03\n",
            " 1.6608997e-03 1.5378702e-05 0.0000000e+00 0.0000000e+00 0.0000000e+00\n",
            " 0.0000000e+00 0.0000000e+00 0.0000000e+00 0.0000000e+00 0.0000000e+00\n",
            " 0.0000000e+00 0.0000000e+00 0.0000000e+00 0.0000000e+00 0.0000000e+00\n",
            " 0.0000000e+00 0.0000000e+00 0.0000000e+00 0.0000000e+00 0.0000000e+00\n",
            " 0.0000000e+00 0.0000000e+00 0.0000000e+00 0.0000000e+00 0.0000000e+00\n",
            " 1.2456748e-03 3.6908882e-03 3.8908112e-03 3.8908112e-03 1.8300654e-03\n",
            " 3.8446751e-04 0.0000000e+00 0.0000000e+00 0.0000000e+00 0.0000000e+00\n",
            " 0.0000000e+00 0.0000000e+00 0.0000000e+00 0.0000000e+00 0.0000000e+00\n",
            " 0.0000000e+00 0.0000000e+00 0.0000000e+00 0.0000000e+00 0.0000000e+00\n",
            " 0.0000000e+00 0.0000000e+00 0.0000000e+00 0.0000000e+00 0.0000000e+00\n",
            " 0.0000000e+00 0.0000000e+00 0.0000000e+00 0.0000000e+00 6.9204153e-04\n",
            " 2.8604383e-03 3.8908112e-03 3.8908112e-03 2.3068052e-03 4.1522493e-04\n",
            " 0.0000000e+00 0.0000000e+00 0.0000000e+00 0.0000000e+00 0.0000000e+00\n",
            " 0.0000000e+00 0.0000000e+00 0.0000000e+00 0.0000000e+00 0.0000000e+00\n",
            " 0.0000000e+00 0.0000000e+00 0.0000000e+00 0.0000000e+00 0.0000000e+00\n",
            " 0.0000000e+00 0.0000000e+00 0.0000000e+00 0.0000000e+00 0.0000000e+00\n",
            " 0.0000000e+00 0.0000000e+00 0.0000000e+00 2.4605924e-04 1.4302192e-03\n",
            " 3.8754325e-03 3.8908112e-03 2.8758170e-03 0.0000000e+00 0.0000000e+00\n",
            " 0.0000000e+00 0.0000000e+00 0.0000000e+00 0.0000000e+00 0.0000000e+00\n",
            " 0.0000000e+00 0.0000000e+00 0.0000000e+00 0.0000000e+00 0.0000000e+00\n",
            " 0.0000000e+00 0.0000000e+00 0.0000000e+00 0.0000000e+00 0.0000000e+00\n",
            " 0.0000000e+00 0.0000000e+00 0.0000000e+00 0.0000000e+00 0.0000000e+00\n",
            " 0.0000000e+00 0.0000000e+00 0.0000000e+00 3.8292964e-03 3.8908112e-03\n",
            " 3.8292964e-03 9.8423695e-04 0.0000000e+00 0.0000000e+00 0.0000000e+00\n",
            " 0.0000000e+00 0.0000000e+00 0.0000000e+00 0.0000000e+00 0.0000000e+00\n",
            " 0.0000000e+00 0.0000000e+00 0.0000000e+00 0.0000000e+00 0.0000000e+00\n",
            " 0.0000000e+00 0.0000000e+00 0.0000000e+00 0.0000000e+00 0.0000000e+00\n",
            " 0.0000000e+00 0.0000000e+00 0.0000000e+00 7.0742023e-04 1.9992313e-03\n",
            " 2.8143022e-03 3.8908112e-03 3.8908112e-03 3.1833909e-03 3.0757405e-05\n",
            " 0.0000000e+00 0.0000000e+00 0.0000000e+00 0.0000000e+00 0.0000000e+00\n",
            " 0.0000000e+00 0.0000000e+00 0.0000000e+00 0.0000000e+00 0.0000000e+00\n",
            " 0.0000000e+00 0.0000000e+00 0.0000000e+00 0.0000000e+00 0.0000000e+00\n",
            " 0.0000000e+00 0.0000000e+00 0.0000000e+00 0.0000000e+00 5.9976935e-04\n",
            " 2.2760478e-03 3.5217225e-03 3.8908112e-03 3.8908112e-03 3.8908112e-03\n",
            " 3.8446751e-03 2.7989235e-03 0.0000000e+00 0.0000000e+00 0.0000000e+00\n",
            " 0.0000000e+00 0.0000000e+00 0.0000000e+00 0.0000000e+00 0.0000000e+00\n",
            " 0.0000000e+00 0.0000000e+00 0.0000000e+00 0.0000000e+00 0.0000000e+00\n",
            " 0.0000000e+00 0.0000000e+00 0.0000000e+00 0.0000000e+00 0.0000000e+00\n",
            " 3.6908881e-04 1.7531719e-03 3.3986929e-03 3.8908112e-03 3.8908112e-03\n",
            " 3.8908112e-03 3.8908112e-03 3.0911188e-03 1.1995387e-03 0.0000000e+00\n",
            " 0.0000000e+00 0.0000000e+00 0.0000000e+00 0.0000000e+00 0.0000000e+00\n",
            " 0.0000000e+00 0.0000000e+00 0.0000000e+00 0.0000000e+00 0.0000000e+00\n",
            " 0.0000000e+00 0.0000000e+00 0.0000000e+00 0.0000000e+00 0.0000000e+00\n",
            " 0.0000000e+00 3.5371011e-04 1.0149943e-03 3.2756634e-03 3.8908112e-03\n",
            " 3.8908112e-03 3.8908112e-03 3.8908112e-03 3.0449827e-03 1.2456748e-03\n",
            " 3.0757405e-05 0.0000000e+00 0.0000000e+00 0.0000000e+00 0.0000000e+00\n",
            " 0.0000000e+00 0.0000000e+00 0.0000000e+00 0.0000000e+00 0.0000000e+00\n",
            " 0.0000000e+00 0.0000000e+00 0.0000000e+00 0.0000000e+00 0.0000000e+00\n",
            " 0.0000000e+00 0.0000000e+00 2.7681663e-04 2.6297579e-03 3.3679355e-03\n",
            " 3.8908112e-03 3.8908112e-03 3.8908112e-03 3.8908112e-03 2.9988466e-03\n",
            " 1.2302961e-03 1.3840832e-04 0.0000000e+00 0.0000000e+00 0.0000000e+00\n",
            " 0.0000000e+00 0.0000000e+00 0.0000000e+00 0.0000000e+00 0.0000000e+00\n",
            " 0.0000000e+00 0.0000000e+00 0.0000000e+00 0.0000000e+00 0.0000000e+00\n",
            " 0.0000000e+00 0.0000000e+00 0.0000000e+00 8.4582856e-04 2.6451366e-03\n",
            " 3.4755864e-03 3.8908112e-03 3.8908112e-03 3.8908112e-03 3.8908112e-03\n",
            " 3.7524030e-03 2.0453674e-03 1.6916571e-04 0.0000000e+00 0.0000000e+00\n",
            " 0.0000000e+00 0.0000000e+00 0.0000000e+00 0.0000000e+00 0.0000000e+00\n",
            " 0.0000000e+00 0.0000000e+00 0.0000000e+00 0.0000000e+00 0.0000000e+00\n",
            " 0.0000000e+00 0.0000000e+00 0.0000000e+00 0.0000000e+00 0.0000000e+00\n",
            " 0.0000000e+00 2.0915035e-03 3.8908112e-03 3.8908112e-03 3.8908112e-03\n",
            " 3.2602844e-03 2.0761248e-03 2.0299887e-03 2.4605924e-04 0.0000000e+00\n",
            " 0.0000000e+00 0.0000000e+00 0.0000000e+00 0.0000000e+00 0.0000000e+00\n",
            " 0.0000000e+00 0.0000000e+00 0.0000000e+00 0.0000000e+00 0.0000000e+00\n",
            " 0.0000000e+00 0.0000000e+00 0.0000000e+00 0.0000000e+00 0.0000000e+00\n",
            " 0.0000000e+00 0.0000000e+00 0.0000000e+00 0.0000000e+00 0.0000000e+00\n",
            " 0.0000000e+00 0.0000000e+00 0.0000000e+00 0.0000000e+00 0.0000000e+00\n",
            " 0.0000000e+00 0.0000000e+00 0.0000000e+00 0.0000000e+00 0.0000000e+00\n",
            " 0.0000000e+00 0.0000000e+00 0.0000000e+00 0.0000000e+00 0.0000000e+00\n",
            " 0.0000000e+00 0.0000000e+00 0.0000000e+00 0.0000000e+00 0.0000000e+00\n",
            " 0.0000000e+00 0.0000000e+00 0.0000000e+00 0.0000000e+00 0.0000000e+00\n",
            " 0.0000000e+00 0.0000000e+00 0.0000000e+00 0.0000000e+00 0.0000000e+00\n",
            " 0.0000000e+00 0.0000000e+00 0.0000000e+00 0.0000000e+00 0.0000000e+00\n",
            " 0.0000000e+00 0.0000000e+00 0.0000000e+00 0.0000000e+00 0.0000000e+00\n",
            " 0.0000000e+00 0.0000000e+00 0.0000000e+00 0.0000000e+00 0.0000000e+00\n",
            " 0.0000000e+00 0.0000000e+00 0.0000000e+00 0.0000000e+00 0.0000000e+00\n",
            " 0.0000000e+00 0.0000000e+00 0.0000000e+00 0.0000000e+00 0.0000000e+00\n",
            " 0.0000000e+00 0.0000000e+00 0.0000000e+00 0.0000000e+00 0.0000000e+00\n",
            " 0.0000000e+00 0.0000000e+00 0.0000000e+00 0.0000000e+00 0.0000000e+00\n",
            " 0.0000000e+00 0.0000000e+00 0.0000000e+00 0.0000000e+00 0.0000000e+00\n",
            " 0.0000000e+00 0.0000000e+00 0.0000000e+00 0.0000000e+00 0.0000000e+00\n",
            " 0.0000000e+00 0.0000000e+00 0.0000000e+00 0.0000000e+00]\n"
          ],
          "name": "stdout"
        }
      ]
    },
    {
      "cell_type": "code",
      "metadata": {
        "colab": {
          "base_uri": "https://localhost:8080/"
        },
        "id": "9GRq_o2k-IHI",
        "outputId": "16600fc8-334f-4a5e-fc9f-c803c50fa7ae"
      },
      "source": [
        "# Preparação da camada de saída\n",
        "\n",
        "# Quais são as possibilidades de saída? Números de 0 a 9\n",
        "# Atualmente, nas labels, temos: 0, 1, 2, 3, 4, 5, 6, 7, 8, 9\n",
        "# Transformaremos para o formato da camada de saída: [0, 0, 0, 0, 0, 0, 0, 0, 0, 0]\n",
        "# Sendo que cada número possui valor 1 na posição que corresponde a esse número\n",
        "# Exemplo:\n",
        "# Número 5 [0, 0, 0, 0, 0, 1, 0, 0, 0, 0]\n",
        "# Número 9 [0, 0, 0, 0, 0, 0, 0, 0, 0, 1]\n",
        "# Número 0 [1, 0, 0, 0, 0, 0, 0, 0, 0, 0]\n",
        "\n",
        "print(\"Primeiro elemento:\", y_treino[0], type(y_treino[0]))\n",
        "\n",
        "valores_unicos = set(y_treino)\n",
        "\n",
        "print(\"Valores únicos:\", valores_unicos)\n",
        "\n",
        "quantidade_valores_unicos = len(valores_unicos) # 10\n",
        "\n",
        "# Transformação de valores inteiros em valores categóricos\n",
        "\n",
        "print(\"y_treino[0] antes:\", y_treino[0])\n",
        "\n",
        "y_treino = keras.utils.to_categorical(y_treino, quantidade_valores_unicos)\n",
        "y_teste = keras.utils.to_categorical(y_teste, quantidade_valores_unicos)\n",
        "\n",
        "print(\"y_treino[0] depois:\", y_treino[0])"
      ],
      "execution_count": null,
      "outputs": [
        {
          "output_type": "stream",
          "text": [
            "Primeiro elemento: 5 <class 'numpy.uint8'>\n",
            "Valores únicos: {0, 1, 2, 3, 4, 5, 6, 7, 8, 9}\n",
            "y_treino[0] antes: 5\n",
            "y_treino[0] depois: [0. 0. 0. 0. 0. 1. 0. 0. 0. 0.]\n"
          ],
          "name": "stdout"
        }
      ]
    },
    {
      "cell_type": "code",
      "metadata": {
        "id": "I9Ksutrg-h1D"
      },
      "source": [
        "# Prever os resultados é transformar os valores categórios em um número equivalente\n",
        "# Exemplo:\n",
        "# [0         1     2        3     4     5       6     7        8     9 ]\n",
        "# [0.11.     0.    0.22.    0.    0.    0.9.    0.    0.36.    0.    0.]\n",
        "# Significa que a rede está prevendo que a aquela imagem (matriz de pixels) representa um número 5"
      ],
      "execution_count": null,
      "outputs": []
    },
    {
      "cell_type": "code",
      "metadata": {
        "colab": {
          "base_uri": "https://localhost:8080/"
        },
        "id": "dLOhg1gH-pEU",
        "outputId": "4983dfb1-223d-43f5-c060-1231fe7492fb"
      },
      "source": [
        "# Criando o modelo da rede neural\n",
        "\n",
        "model = Sequential()\n",
        "\n",
        "# Primeira hidden layer\n",
        "# 30 neurônios\n",
        "# Função de ativação\n",
        "# Como estamos na primeira hidden layer, precisamos definir o input shape\n",
        "\n",
        "model.add(Dense(30, activation='relu', input_shape=(resolucao_total,)))\n",
        "\n",
        "# Adicionamos um regularizador, que ajuda a evitar o overfitting\n",
        "# Overfitting = quando a rede aprender a resolver aquela base específica, mas não\n",
        "# abstrai o problema de forma suficiente para resolver imagens que ela não conhece\n",
        "\n",
        "model.add(Dropout(0.2))\n",
        "\n",
        "# Segunda hidden layer\n",
        "# 20 neurônios\n",
        "# Função de ativação: ReLU\n",
        "\n",
        "model.add(Dense(20, activation='relu'))\n",
        "\n",
        "# Mais um regularizador depois da segunda hidden layer\n",
        "\n",
        "model.add(Dropout(0.2))\n",
        "\n",
        "# Finalizamos com a camada de saída (output)\n",
        "model.add(Dense(quantidade_valores_unicos, activation='softmax'))\n",
        "\n",
        "# Exibimos o resumo do modelo criado\n",
        "\n",
        "model.summary()"
      ],
      "execution_count": null,
      "outputs": [
        {
          "output_type": "stream",
          "text": [
            "Model: \"sequential\"\n",
            "_________________________________________________________________\n",
            "Layer (type)                 Output Shape              Param #   \n",
            "=================================================================\n",
            "dense (Dense)                (None, 30)                23550     \n",
            "_________________________________________________________________\n",
            "dropout (Dropout)            (None, 30)                0         \n",
            "_________________________________________________________________\n",
            "dense_1 (Dense)              (None, 20)                620       \n",
            "_________________________________________________________________\n",
            "dropout_1 (Dropout)          (None, 20)                0         \n",
            "_________________________________________________________________\n",
            "dense_2 (Dense)              (None, 10)                210       \n",
            "=================================================================\n",
            "Total params: 24,380\n",
            "Trainable params: 24,380\n",
            "Non-trainable params: 0\n",
            "_________________________________________________________________\n"
          ],
          "name": "stdout"
        }
      ]
    },
    {
      "cell_type": "code",
      "metadata": {
        "colab": {
          "base_uri": "https://localhost:8080/"
        },
        "id": "POkubuIyKEtH",
        "outputId": "af738e77-d9ed-469b-8c59-c75be5bb5d9a"
      },
      "source": [
        "# Compila e treina o modelo\n",
        "# Definimos a função de erro\n",
        "# Definimos o otimizador\n",
        "# Definimos a métrica de aprendizado\n",
        "\n",
        "model.compile(loss='categorical_crossentropy',\n",
        "              optimizer=RMSprop(),\n",
        "              metrics=['accuracy'])\n",
        "\n",
        "# Treinamos o modelo\n",
        "\n",
        "# Imagens em treino, labels em treino\n",
        "# batch_size = Tamanho do batch (recomendado potência de 2)\n",
        "# epochs = Quantas épocas irei treinar\n",
        "# verbose = Exibe o treinamento\n",
        "# Imagens em teste, labels em teste\n",
        "\n",
        "history = model.fit(x_treino, y_treino,\n",
        "                    batch_size=128,\n",
        "                    epochs=10,\n",
        "                    verbose=1,\n",
        "                    validation_data=(x_teste, y_teste))"
      ],
      "execution_count": 23,
      "outputs": [
        {
          "output_type": "stream",
          "text": [
            "Epoch 1/10\n",
            "469/469 [==============================] - 3s 4ms/step - loss: 1.9985 - accuracy: 0.3407 - val_loss: 1.5187 - val_accuracy: 0.4801\n",
            "Epoch 2/10\n",
            "469/469 [==============================] - 2s 3ms/step - loss: 1.3525 - accuracy: 0.5067 - val_loss: 1.0386 - val_accuracy: 0.6704\n",
            "Epoch 3/10\n",
            "469/469 [==============================] - 2s 3ms/step - loss: 1.0728 - accuracy: 0.6125 - val_loss: 0.8493 - val_accuracy: 0.7323\n",
            "Epoch 4/10\n",
            "469/469 [==============================] - 2s 3ms/step - loss: 0.9441 - accuracy: 0.6721 - val_loss: 0.7499 - val_accuracy: 0.7714\n",
            "Epoch 5/10\n",
            "469/469 [==============================] - 2s 3ms/step - loss: 0.8605 - accuracy: 0.7128 - val_loss: 0.6743 - val_accuracy: 0.8039\n",
            "Epoch 6/10\n",
            "469/469 [==============================] - 2s 3ms/step - loss: 0.7950 - accuracy: 0.7424 - val_loss: 0.6052 - val_accuracy: 0.8283\n",
            "Epoch 7/10\n",
            "469/469 [==============================] - 2s 3ms/step - loss: 0.7393 - accuracy: 0.7659 - val_loss: 0.5478 - val_accuracy: 0.8497\n",
            "Epoch 8/10\n",
            "469/469 [==============================] - 1s 3ms/step - loss: 0.6896 - accuracy: 0.7853 - val_loss: 0.4977 - val_accuracy: 0.8634\n",
            "Epoch 9/10\n",
            "469/469 [==============================] - 2s 3ms/step - loss: 0.6534 - accuracy: 0.7991 - val_loss: 0.4677 - val_accuracy: 0.8713\n",
            "Epoch 10/10\n",
            "469/469 [==============================] - 1s 3ms/step - loss: 0.6230 - accuracy: 0.8100 - val_loss: 0.4370 - val_accuracy: 0.8794\n"
          ],
          "name": "stdout"
        }
      ]
    },
    {
      "cell_type": "code",
      "metadata": {
        "colab": {
          "base_uri": "https://localhost:8080/",
          "height": 384
        },
        "id": "Ltb6iK_4KVFn",
        "outputId": "585e5be0-d058-4cac-d4eb-c1c59d6fe4b0"
      },
      "source": [
        "# Fazendo novas previsões\n",
        "\n",
        "indice = 0\n",
        "\n",
        "print(\"Valor categórico em y_teste[indice]:\", y_teste[indice])\n",
        "\n",
        "# Preparo a imagem para fazer a previsão\n",
        "imagem = x_teste[indice].reshape((1, resolucao_total))\n",
        "\n",
        "print()\n",
        "\n",
        "# Faço a previsão\n",
        "prediction = model.predict(imagem)\n",
        "print(\"Previsão:\", prediction)\n",
        "\n",
        "# Traduzindo a previsão em algo mais legível\n",
        "import numpy as np\n",
        "prediction_class = np.argmax(prediction, axis=-1)\n",
        "print(\"Previsão ajustada:\", prediction_class)\n",
        "\n",
        "print()\n",
        "\n",
        "# Carregar os dados originais novamente para exibir como imagem\n",
        "(x_treino_img, y_treino_img), (x_teste_img, y_teste_img) = mnist.load_data()\n",
        "plt.imshow(x_teste_img[indice], cmap=plt.cm.binary)"
      ],
      "execution_count": 24,
      "outputs": [
        {
          "output_type": "stream",
          "text": [
            "Valor categórico em y_teste[indice]: [0. 0. 0. 0. 0. 0. 0. 1. 0. 0.]\n",
            "\n",
            "Previsão: [[1.1729946e-03 1.4937292e-07 7.9213351e-06 2.6157466e-03 1.7433704e-04\n",
            "  1.9794673e-02 6.9154231e-07 9.5453966e-01 5.5577589e-04 2.1138180e-02]]\n",
            "Previsão ajustada: [7]\n",
            "\n"
          ],
          "name": "stdout"
        },
        {
          "output_type": "execute_result",
          "data": {
            "text/plain": [
              "<matplotlib.image.AxesImage at 0x7f7e2d2b7ad0>"
            ]
          },
          "metadata": {
            "tags": []
          },
          "execution_count": 24
        },
        {
          "output_type": "display_data",
          "data": {
            "image/png": "[encoded data removed]",
            "text/plain": [
              "<Figure size 432x288 with 1 Axes>"
            ]
          },
          "metadata": {
            "tags": [],
            "needs_background": "light"
          }
        }
      ]
    }
  ]
}